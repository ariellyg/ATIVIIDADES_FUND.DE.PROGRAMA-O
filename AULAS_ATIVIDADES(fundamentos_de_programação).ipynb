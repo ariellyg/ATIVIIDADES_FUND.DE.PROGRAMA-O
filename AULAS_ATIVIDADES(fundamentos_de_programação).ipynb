{
  "nbformat": 4,
  "nbformat_minor": 0,
  "metadata": {
    "colab": {
      "provenance": [],
      "authorship_tag": "ABX9TyNbZCURf9eCi2+BfjuC/wy3",
      "include_colab_link": true
    },
    "kernelspec": {
      "name": "python3",
      "display_name": "Python 3"
    },
    "language_info": {
      "name": "python"
    }
  },
  "cells": [
    {
      "cell_type": "markdown",
      "metadata": {
        "id": "view-in-github",
        "colab_type": "text"
      },
      "source": [
        "<a href=\"https://colab.research.google.com/github/ariellyg/ATIVIIDADES_FUND.DE.PROGRAMA-O/blob/main/AULAS_ATIVIDADES(fundamentos_de_programa%C3%A7%C3%A3o).ipynb\" target=\"_parent\"><img src=\"https://colab.research.google.com/assets/colab-badge.svg\" alt=\"Open In Colab\"/></a>"
      ]
    },
    {
      "cell_type": "markdown",
      "source": [
        "**AULA 01**\n",
        "\n",
        "**TIPOS E VARIÁVEIS**"
      ],
      "metadata": {
        "id": "e-NCFyyLsexT"
      }
    },
    {
      "cell_type": "code",
      "execution_count": null,
      "metadata": {
        "id": "wPyFg0TDEcWS"
      },
      "outputs": [],
      "source": [
        "#atribuindo valores a variáveis:\n",
        "height = 1.79 \n",
        "weight = 68.7"
      ]
    },
    {
      "cell_type": "code",
      "source": [
        "weight"
      ],
      "metadata": {
        "colab": {
          "base_uri": "https://localhost:8080/"
        },
        "id": "r1zjXGivJGWj",
        "outputId": "2bf508ea-5229-42e8-fbb0-a969b38bdb87"
      },
      "execution_count": null,
      "outputs": [
        {
          "output_type": "execute_result",
          "data": {
            "text/plain": [
              "68.7"
            ]
          },
          "metadata": {},
          "execution_count": 2
        }
      ]
    },
    {
      "cell_type": "code",
      "source": [
        "68.7 / 1.79 ** 2"
      ],
      "metadata": {
        "colab": {
          "base_uri": "https://localhost:8080/"
        },
        "id": "ReczY7XoKMhi",
        "outputId": "ef51083e-8c59-4262-9874-ecd83bc0bd34"
      },
      "execution_count": null,
      "outputs": [
        {
          "output_type": "execute_result",
          "data": {
            "text/plain": [
              "21.44127836209856"
            ]
          },
          "metadata": {},
          "execution_count": 11
        }
      ]
    },
    {
      "cell_type": "code",
      "source": [
        "weight / height ** 2"
      ],
      "metadata": {
        "colab": {
          "base_uri": "https://localhost:8080/"
        },
        "id": "pd7K9mFwKoWZ",
        "outputId": "21ed1f09-abce-4c36-b6d1-20b8a5921bf0"
      },
      "execution_count": null,
      "outputs": [
        {
          "output_type": "execute_result",
          "data": {
            "text/plain": [
              "21.44127836209856"
            ]
          },
          "metadata": {},
          "execution_count": 12
        }
      ]
    },
    {
      "cell_type": "code",
      "source": [
        "bmi = weight /height ** 2\n",
        "bmi"
      ],
      "metadata": {
        "colab": {
          "base_uri": "https://localhost:8080/"
        },
        "id": "jtax491nK2aR",
        "outputId": "67646ba1-8a7b-412d-9a7a-44f6de5b76df"
      },
      "execution_count": null,
      "outputs": [
        {
          "output_type": "execute_result",
          "data": {
            "text/plain": [
              "21.44127836209856"
            ]
          },
          "metadata": {},
          "execution_count": 13
        }
      ]
    },
    {
      "cell_type": "code",
      "source": [
        "bmi = weight /height ** 2\n",
        "print (bmi)"
      ],
      "metadata": {
        "colab": {
          "base_uri": "https://localhost:8080/"
        },
        "id": "iQPmeEvPMh3p",
        "outputId": "64bc5857-1c30-435a-f0e8-562359b4aec2"
      },
      "execution_count": null,
      "outputs": [
        {
          "output_type": "stream",
          "name": "stdout",
          "text": [
            "21.44127836209856\n"
          ]
        }
      ]
    },
    {
      "cell_type": "code",
      "source": [
        "#visualisando o tipo da variáriavel:\n",
        "type (bmi)"
      ],
      "metadata": {
        "colab": {
          "base_uri": "https://localhost:8080/"
        },
        "id": "j3ud6CzsNhpB",
        "outputId": "e296b3df-2b5c-4c95-99c3-a780362bcdca"
      },
      "execution_count": null,
      "outputs": [
        {
          "output_type": "execute_result",
          "data": {
            "text/plain": [
              "float"
            ]
          },
          "metadata": {},
          "execution_count": 24
        }
      ]
    },
    {
      "cell_type": "code",
      "source": [
        "day_of_week = 5\n",
        "type(day_of_week)"
      ],
      "metadata": {
        "colab": {
          "base_uri": "https://localhost:8080/"
        },
        "id": "TygQAsxDNqkQ",
        "outputId": "f84aa451-8197-411c-d587-39240d4886b1"
      },
      "execution_count": null,
      "outputs": [
        {
          "output_type": "execute_result",
          "data": {
            "text/plain": [
              "int"
            ]
          },
          "metadata": {},
          "execution_count": 16
        }
      ]
    },
    {
      "cell_type": "code",
      "source": [
        "x = \"body mass index\"\n",
        "y = 'this works too'\n",
        "type(y)"
      ],
      "metadata": {
        "colab": {
          "base_uri": "https://localhost:8080/"
        },
        "id": "tEf9_1u9OJeo",
        "outputId": "8f73d091-0cb9-40dd-b1e2-b1642dc095bd"
      },
      "execution_count": null,
      "outputs": [
        {
          "output_type": "execute_result",
          "data": {
            "text/plain": [
              "str"
            ]
          },
          "metadata": {},
          "execution_count": 17
        }
      ]
    },
    {
      "cell_type": "code",
      "source": [
        "z = True\n",
        "type(z)"
      ],
      "metadata": {
        "colab": {
          "base_uri": "https://localhost:8080/"
        },
        "id": "NOUzgJimOl7w",
        "outputId": "3c303d02-8a48-4720-8c08-0e1223748e50"
      },
      "execution_count": null,
      "outputs": [
        {
          "output_type": "execute_result",
          "data": {
            "text/plain": [
              "bool"
            ]
          },
          "metadata": {},
          "execution_count": 18
        }
      ]
    },
    {
      "cell_type": "code",
      "source": [
        "#realizando operações:\n",
        "2 + 3"
      ],
      "metadata": {
        "colab": {
          "base_uri": "https://localhost:8080/"
        },
        "id": "3g06X5_WPika",
        "outputId": "1ee6e20e-8f9f-4928-abfe-b85e8c60442b"
      },
      "execution_count": null,
      "outputs": [
        {
          "output_type": "execute_result",
          "data": {
            "text/plain": [
              "5"
            ]
          },
          "metadata": {},
          "execution_count": 19
        }
      ]
    },
    {
      "cell_type": "code",
      "source": [
        "a = 'Arielly'\n",
        "g = 'Gonçalves'\n",
        "print (a + g)\n"
      ],
      "metadata": {
        "colab": {
          "base_uri": "https://localhost:8080/"
        },
        "id": "K6zAyc14P2X_",
        "outputId": "f4aee0fa-7cf0-4049-aeb8-6a35f44156c6"
      },
      "execution_count": null,
      "outputs": [
        {
          "output_type": "stream",
          "name": "stdout",
          "text": [
            "AriellyGonçalves\n"
          ]
        }
      ]
    },
    {
      "cell_type": "code",
      "source": [
        "# example\n",
        "print(5/ 8)"
      ],
      "metadata": {
        "colab": {
          "base_uri": "https://localhost:8080/"
        },
        "id": "OfCjhoXnRoBo",
        "outputId": "6d5db75b-9760-45e9-99c0-a17b49c8eba2"
      },
      "execution_count": null,
      "outputs": [
        {
          "output_type": "stream",
          "name": "stdout",
          "text": [
            "0.625\n"
          ]
        }
      ]
    },
    {
      "cell_type": "code",
      "source": [
        "#example\n",
        "print  (7+8)"
      ],
      "metadata": {
        "colab": {
          "base_uri": "https://localhost:8080/"
        },
        "id": "olHuvNLjRxTm",
        "outputId": "56d79c2c-b005-4ca0-d05d-a6db6605c48c"
      },
      "execution_count": null,
      "outputs": [
        {
          "output_type": "stream",
          "name": "stdout",
          "text": [
            "15\n"
          ]
        }
      ]
    },
    {
      "cell_type": "code",
      "source": [
        " a = 5\n",
        " b = 3\n",
        " print (a + b)\n",
        " print (a-b)"
      ],
      "metadata": {
        "colab": {
          "base_uri": "https://localhost:8080/"
        },
        "id": "rz3zXyvZS49n",
        "outputId": "1cbb26b1-b365-4e4a-f395-842fecc4f021"
      },
      "execution_count": null,
      "outputs": [
        {
          "output_type": "stream",
          "name": "stdout",
          "text": [
            "8\n",
            "2\n"
          ]
        }
      ]
    },
    {
      "cell_type": "code",
      "source": [
        "print (5**3)\n",
        "print (5*3)\n",
        "print (5 % 3)"
      ],
      "metadata": {
        "colab": {
          "base_uri": "https://localhost:8080/"
        },
        "id": "EsWk7PcsTtFn",
        "outputId": "36c64cbb-c95b-494b-e41c-ba46187a0764"
      },
      "execution_count": null,
      "outputs": [
        {
          "output_type": "stream",
          "name": "stdout",
          "text": [
            "125\n",
            "15\n",
            "2\n"
          ]
        }
      ]
    },
    {
      "cell_type": "code",
      "source": [
        "rendimento= 100 * 1.1 ** 7\n",
        "print (rendimento)"
      ],
      "metadata": {
        "colab": {
          "base_uri": "https://localhost:8080/"
        },
        "id": "uDQSmadBUFD-",
        "outputId": "4a34ef7d-e7f2-4359-b5a7-65b3e60ad62a"
      },
      "execution_count": null,
      "outputs": [
        {
          "output_type": "stream",
          "name": "stdout",
          "text": [
            "194.87171000000012\n"
          ]
        }
      ]
    },
    {
      "cell_type": "markdown",
      "source": [
        "**AULA 02**\n",
        "\n",
        "**CONTINUAÇÃO DA PRÁTICA DO QUE FOI VISTO NA AULA 01 E COMO CONCATENAR TEXTOS E NÚMEROS**"
      ],
      "metadata": {
        "id": "atgCBHa7uLR_"
      }
    },
    {
      "cell_type": "code",
      "source": [
        "#prática de tipos, variáveis e operações:\n",
        "savings = 100\n",
        "growth_multiplier = 1.1\n",
        "desc = 'compound interest'\n",
        "year1 = savings * growth_multiplier\n",
        "print (type (year1))\n",
        "doubledesc = desc + desc\n",
        "print (doubledesc)\n"
      ],
      "metadata": {
        "colab": {
          "base_uri": "https://localhost:8080/"
        },
        "id": "V9ocr0s2s-K3",
        "outputId": "8ea28236-e602-4bcd-c21c-7064ef451680"
      },
      "execution_count": null,
      "outputs": [
        {
          "output_type": "stream",
          "name": "stdout",
          "text": [
            "<class 'float'>\n",
            "compound interestcompound interest\n"
          ]
        }
      ]
    },
    {
      "cell_type": "code",
      "source": [
        "pi_string = '3.1415926'\n",
        "pi_float = float (pi_string)\n",
        "print (type(pi_string))\n",
        "print (type(pi_float))"
      ],
      "metadata": {
        "colab": {
          "base_uri": "https://localhost:8080/"
        },
        "id": "2M_ukqYLxnq-",
        "outputId": "401b0301-0328-40aa-cd10-291ee7a0e369"
      },
      "execution_count": null,
      "outputs": [
        {
          "output_type": "stream",
          "name": "stdout",
          "text": [
            "<class 'str'>\n",
            "<class 'float'>\n"
          ]
        }
      ]
    },
    {
      "cell_type": "code",
      "source": [
        "savings = 100\n",
        "result = 100 * 1.10 ** 7 \n",
        "print ('I started with' + savings + ' and now have $' + result + ' awesome!')\n",
        "# o erro está no fato de não poder concatenar texto e números\n"
      ],
      "metadata": {
        "colab": {
          "base_uri": "https://localhost:8080/",
          "height": 217
        },
        "id": "5QfO7y8vzArW",
        "outputId": "a40f55dd-af31-4bb9-cd26-f0981848ccec"
      },
      "execution_count": null,
      "outputs": [
        {
          "output_type": "error",
          "ename": "TypeError",
          "evalue": "ignored",
          "traceback": [
            "\u001b[0;31m---------------------------------------------------------------------------\u001b[0m",
            "\u001b[0;31mTypeError\u001b[0m                                 Traceback (most recent call last)",
            "\u001b[0;32m<ipython-input-25-fc8332e933c7>\u001b[0m in \u001b[0;36m<cell line: 3>\u001b[0;34m()\u001b[0m\n\u001b[1;32m      1\u001b[0m \u001b[0msavings\u001b[0m \u001b[0;34m=\u001b[0m \u001b[0;36m100\u001b[0m\u001b[0;34m\u001b[0m\u001b[0;34m\u001b[0m\u001b[0m\n\u001b[1;32m      2\u001b[0m \u001b[0mresult\u001b[0m \u001b[0;34m=\u001b[0m \u001b[0;36m100\u001b[0m \u001b[0;34m*\u001b[0m \u001b[0;36m1.10\u001b[0m \u001b[0;34m**\u001b[0m \u001b[0;36m7\u001b[0m\u001b[0;34m\u001b[0m\u001b[0;34m\u001b[0m\u001b[0m\n\u001b[0;32m----> 3\u001b[0;31m \u001b[0mprint\u001b[0m \u001b[0;34m(\u001b[0m\u001b[0;34m'I started with'\u001b[0m \u001b[0;34m+\u001b[0m \u001b[0msavings\u001b[0m \u001b[0;34m+\u001b[0m \u001b[0;34m' and now have $'\u001b[0m \u001b[0;34m+\u001b[0m \u001b[0mresult\u001b[0m \u001b[0;34m+\u001b[0m \u001b[0;34m' awesome!'\u001b[0m\u001b[0;34m)\u001b[0m\u001b[0;34m\u001b[0m\u001b[0;34m\u001b[0m\u001b[0m\n\u001b[0m\u001b[1;32m      4\u001b[0m \u001b[0;31m# o erro está no fato de não poder concatenar texto e números\u001b[0m\u001b[0;34m\u001b[0m\u001b[0;34m\u001b[0m\u001b[0m\n",
            "\u001b[0;31mTypeError\u001b[0m: can only concatenate str (not \"int\") to str"
          ]
        }
      ]
    },
    {
      "cell_type": "code",
      "source": [
        "#resolve-se o problema assim:\n",
        "print ('I started with' + str(savings) + ' and now have $' + str(result) + ' awesome!')"
      ],
      "metadata": {
        "colab": {
          "base_uri": "https://localhost:8080/"
        },
        "id": "veEgvUwR0opU",
        "outputId": "cb7085e0-6c2a-428e-d6eb-2f866478742f"
      },
      "execution_count": null,
      "outputs": [
        {
          "output_type": "stream",
          "name": "stdout",
          "text": [
            "I started with100 and now have $194.87171000000012 awesome!\n"
          ]
        }
      ]
    },
    {
      "cell_type": "code",
      "source": [
        "#como concatenar números e textos(usando vírgula)\n",
        "print('I started with' ,savings , ' and now have $' , result , ' awesome!')"
      ],
      "metadata": {
        "colab": {
          "base_uri": "https://localhost:8080/"
        },
        "id": "O0b5Dcff2kBE",
        "outputId": "6675ce6b-d9f0-495e-e6c7-a3b40f0b8c45"
      },
      "execution_count": null,
      "outputs": [
        {
          "output_type": "stream",
          "name": "stdout",
          "text": [
            "I started with 100  and now have $ 194.87171000000012  awesome!\n"
          ]
        }
      ]
    },
    {
      "cell_type": "markdown",
      "source": [
        "**AULA 03**\n",
        "\n",
        "**LISTAS**"
      ],
      "metadata": {
        "id": "siCSSCCowziL"
      }
    },
    {
      "cell_type": "code",
      "source": [
        " #como fazer lista:\n",
        " fam = [1.54, 1.55, 1.65, 1.56]\n",
        " fam"
      ],
      "metadata": {
        "colab": {
          "base_uri": "https://localhost:8080/"
        },
        "id": "TBnuwSp-94-b",
        "outputId": "e0a742e4-4904-431f-e0db-c41b99fb69b5"
      },
      "execution_count": null,
      "outputs": [
        {
          "output_type": "execute_result",
          "data": {
            "text/plain": [
              "[1.54, 1.55, 1.65, 1.56]"
            ]
          },
          "metadata": {},
          "execution_count": 11
        }
      ]
    },
    {
      "cell_type": "code",
      "source": [
        "fruit = [1,'uva', 2 , 'manga', 3, 'goiaba' ]\n",
        "fruit"
      ],
      "metadata": {
        "colab": {
          "base_uri": "https://localhost:8080/"
        },
        "id": "PPToIed5-TOj",
        "outputId": "d4d1f08a-83fd-4bde-e762-ddd2c6dacdc9"
      },
      "execution_count": null,
      "outputs": [
        {
          "output_type": "execute_result",
          "data": {
            "text/plain": [
              "[1, 'uva', 2, 'manga', 3, 'goiaba']"
            ]
          },
          "metadata": {},
          "execution_count": 27
        }
      ]
    },
    {
      "cell_type": "code",
      "source": [
        "#listas dentro de listas\n",
        "fruit1 = [[1, 'uva'],[2, 'manga'],[3, 'goiaba']]\n",
        "fruit1\n"
      ],
      "metadata": {
        "colab": {
          "base_uri": "https://localhost:8080/"
        },
        "id": "um1xvWkC_XsM",
        "outputId": "21bfa1e5-f291-4666-9ec2-ceb6cc046141"
      },
      "execution_count": null,
      "outputs": [
        {
          "output_type": "execute_result",
          "data": {
            "text/plain": [
              "[[1, 'uva'], [2, 'manga'], [3, 'goiaba']]"
            ]
          },
          "metadata": {},
          "execution_count": 13
        }
      ]
    },
    {
      "cell_type": "code",
      "source": [
        "type(fruit)"
      ],
      "metadata": {
        "colab": {
          "base_uri": "https://localhost:8080/"
        },
        "id": "tdcJ9A4E_8lk",
        "outputId": "4dac981f-2bb8-4691-c085-942b4825369e"
      },
      "execution_count": null,
      "outputs": [
        {
          "output_type": "execute_result",
          "data": {
            "text/plain": [
              "list"
            ]
          },
          "metadata": {},
          "execution_count": 35
        }
      ]
    },
    {
      "cell_type": "code",
      "source": [
        "type(fruit1)"
      ],
      "metadata": {
        "colab": {
          "base_uri": "https://localhost:8080/"
        },
        "id": "I1MJMP-eABAM",
        "outputId": "ef5f4024-fda1-4ef4-fde1-45543f69be15"
      },
      "execution_count": null,
      "outputs": [
        {
          "output_type": "execute_result",
          "data": {
            "text/plain": [
              "list"
            ]
          },
          "metadata": {},
          "execution_count": 36
        }
      ]
    },
    {
      "cell_type": "code",
      "source": [
        "#variaveis\n",
        "hall = 14.0\n",
        "kit = 18.0\n",
        "liv = 20.0\n",
        "bed = 10.75\n",
        "bath = 9.5\n",
        "#list\n",
        "areas = [hall, kit,  liv, bed, bath]\n",
        "print(areas)"
      ],
      "metadata": {
        "colab": {
          "base_uri": "https://localhost:8080/"
        },
        "id": "pUeMc-JNCCVr",
        "outputId": "e2fdf4c4-b2ca-44f1-a444-660507313a2e"
      },
      "execution_count": null,
      "outputs": [
        {
          "output_type": "stream",
          "name": "stdout",
          "text": [
            "[14.0, 18.0, 20.0, 10.75, 9.5]\n"
          ]
        }
      ]
    },
    {
      "cell_type": "code",
      "source": [
        "areas = ['hallway', hall, 'kitchen', kit, 'living room', liv,'bedroom', bed, 'bathroom', bath]\n",
        "print(areas)"
      ],
      "metadata": {
        "colab": {
          "base_uri": "https://localhost:8080/"
        },
        "id": "a79GyE90xWrr",
        "outputId": "808ab61b-4b8f-4167-b176-5651a6e39d10"
      },
      "execution_count": null,
      "outputs": [
        {
          "output_type": "stream",
          "name": "stdout",
          "text": [
            "['hallway', 14.0, 'kitchen', 18.0, 'living room', 20.0, 'bedroom', 10.75, 'bathroom', 9.5]\n"
          ]
        }
      ]
    },
    {
      "cell_type": "code",
      "source": [
        "#exercicio (analisando as listas)\n",
        "[1,3,4,2] #uma lista composta de quatro elementos inteiros\n",
        "[[1,2,3],[4,5,6]] #uma lista formada por duas listas de três elementos inteiros\n",
        "[1+ 2, 'a' * 5, 3] #uma lista em que os elementos são: um somatório,uma multiplicação de string e um inteiro"
      ],
      "metadata": {
        "id": "hMVDOcndFiRl",
        "colab": {
          "base_uri": "https://localhost:8080/"
        },
        "outputId": "cb67dbbc-143d-4fcb-9598-699bb7e4c0cc"
      },
      "execution_count": 1,
      "outputs": [
        {
          "output_type": "execute_result",
          "data": {
            "text/plain": [
              "[3, 'aaaaa', 3]"
            ]
          },
          "metadata": {},
          "execution_count": 1
        }
      ]
    },
    {
      "cell_type": "code",
      "source": [
        "house = [['hallway', hall],['kitchen', kit],['living room',liv],['bedroom', bed],['bathroom', bath]]\n",
        "print(house)\n",
        "print(type(house))"
      ],
      "metadata": {
        "colab": {
          "base_uri": "https://localhost:8080/"
        },
        "id": "1wWeTDLAGqaf",
        "outputId": "89b6ff9f-4502-466b-d141-079b8464579c"
      },
      "execution_count": null,
      "outputs": [
        {
          "output_type": "stream",
          "name": "stdout",
          "text": [
            "[['hallway', 14.0], ['kitchen', 18.0], ['living room', 20.0], ['bedroom', 10.75], ['bathroom', 9.5]]\n",
            "<class 'list'>\n"
          ]
        }
      ]
    },
    {
      "cell_type": "code",
      "source": [
        "#visualizando apenas elementos escolhidos da lista\n",
        "fruit = [1,'uva', 2 , 'manga', 3, 'goiaba' ]\n",
        "fruit1 = [[1, 'uva'],[2, 'manga'],[3, 'goiaba']]\n",
        "fruit [4]\n"
      ],
      "metadata": {
        "colab": {
          "base_uri": "https://localhost:8080/"
        },
        "id": "ZWj_TcJzIjH3",
        "outputId": "8619af92-7787-4595-d266-126b9c0677cf"
      },
      "execution_count": null,
      "outputs": [
        {
          "output_type": "execute_result",
          "data": {
            "text/plain": [
              "3"
            ]
          },
          "metadata": {},
          "execution_count": 29
        }
      ]
    },
    {
      "cell_type": "code",
      "source": [
        "fruit1 [0]"
      ],
      "metadata": {
        "colab": {
          "base_uri": "https://localhost:8080/"
        },
        "id": "HEm7eQsnI_ZY",
        "outputId": "66a5c1cc-eef6-425e-bea4-4164fea6395a"
      },
      "execution_count": null,
      "outputs": [
        {
          "output_type": "execute_result",
          "data": {
            "text/plain": [
              "[1, 'uva']"
            ]
          },
          "metadata": {},
          "execution_count": 30
        }
      ]
    },
    {
      "cell_type": "code",
      "source": [
        "house = [['hallway', hall],['kitchen', kit],['living room',liv],['bedroom', bed],['bathroom', bath]]\n",
        "house [3]"
      ],
      "metadata": {
        "colab": {
          "base_uri": "https://localhost:8080/"
        },
        "id": "eB52BrIxJa_g",
        "outputId": "f18df0a3-5c86-40c7-c4f2-91bb2c836cc5"
      },
      "execution_count": null,
      "outputs": [
        {
          "output_type": "execute_result",
          "data": {
            "text/plain": [
              "['bedroom', 10.75]"
            ]
          },
          "metadata": {},
          "execution_count": 32
        }
      ]
    },
    {
      "cell_type": "code",
      "source": [
        "fruit [-1]"
      ],
      "metadata": {
        "colab": {
          "base_uri": "https://localhost:8080/",
          "height": 35
        },
        "id": "BSKqcpdMJpWm",
        "outputId": "dbb70b34-ceb5-408a-aacf-ca64a2b9cacb"
      },
      "execution_count": null,
      "outputs": [
        {
          "output_type": "execute_result",
          "data": {
            "text/plain": [
              "'goiaba'"
            ],
            "application/vnd.google.colaboratory.intrinsic+json": {
              "type": "string"
            }
          },
          "metadata": {},
          "execution_count": 47
        }
      ]
    },
    {
      "cell_type": "code",
      "source": [
        "fruit [5]"
      ],
      "metadata": {
        "colab": {
          "base_uri": "https://localhost:8080/",
          "height": 35
        },
        "id": "zCv3nnOVJpfv",
        "outputId": "c516053e-6205-4765-adfc-5383145f641c"
      },
      "execution_count": null,
      "outputs": [
        {
          "output_type": "execute_result",
          "data": {
            "text/plain": [
              "'goiaba'"
            ],
            "application/vnd.google.colaboratory.intrinsic+json": {
              "type": "string"
            }
          },
          "metadata": {},
          "execution_count": 48
        }
      ]
    },
    {
      "cell_type": "code",
      "source": [
        "#visualisando apenas partes da lista\n",
        "fruit [1:4]"
      ],
      "metadata": {
        "colab": {
          "base_uri": "https://localhost:8080/"
        },
        "id": "bVMbEB0nKVuP",
        "outputId": "66a70959-a285-45de-9578-2aa3b1e8e706"
      },
      "execution_count": null,
      "outputs": [
        {
          "output_type": "execute_result",
          "data": {
            "text/plain": [
              "['uva', 2, 'manga']"
            ]
          },
          "metadata": {},
          "execution_count": 31
        }
      ]
    },
    {
      "cell_type": "code",
      "source": [
        "fruit [3:5]"
      ],
      "metadata": {
        "colab": {
          "base_uri": "https://localhost:8080/"
        },
        "id": "p5XhuYIzKtn_",
        "outputId": "3035a5c5-969b-4bb6-9a9e-ccfb3ef3324e"
      },
      "execution_count": null,
      "outputs": [
        {
          "output_type": "execute_result",
          "data": {
            "text/plain": [
              "['manga', 3]"
            ]
          },
          "metadata": {},
          "execution_count": 50
        }
      ]
    },
    {
      "cell_type": "code",
      "source": [
        "fruit [2:5]"
      ],
      "metadata": {
        "colab": {
          "base_uri": "https://localhost:8080/"
        },
        "id": "hcP6Jm0cK2IY",
        "outputId": "4e25badb-54b7-4b03-a808-1c9b3574fcd4"
      },
      "execution_count": null,
      "outputs": [
        {
          "output_type": "execute_result",
          "data": {
            "text/plain": [
              "[2, 'manga', 3]"
            ]
          },
          "metadata": {},
          "execution_count": 51
        }
      ]
    },
    {
      "cell_type": "code",
      "source": [
        "fruit [:5]"
      ],
      "metadata": {
        "colab": {
          "base_uri": "https://localhost:8080/"
        },
        "id": "z9xgdxwcLkXX",
        "outputId": "abf07fad-b957-4629-864f-71680be04d4c"
      },
      "execution_count": null,
      "outputs": [
        {
          "output_type": "execute_result",
          "data": {
            "text/plain": [
              "[1, 'uva', 2, 'manga', 3]"
            ]
          },
          "metadata": {},
          "execution_count": 52
        }
      ]
    },
    {
      "cell_type": "code",
      "source": [
        "fruit [0:]"
      ],
      "metadata": {
        "colab": {
          "base_uri": "https://localhost:8080/"
        },
        "id": "ZJ5XdoaCLrEP",
        "outputId": "b19988f5-b287-4adc-f0a7-091556150b96"
      },
      "execution_count": null,
      "outputs": [
        {
          "output_type": "execute_result",
          "data": {
            "text/plain": [
              "[1, 'uva', 2, 'manga', 3, 'goiaba']"
            ]
          },
          "metadata": {},
          "execution_count": 53
        }
      ]
    },
    {
      "cell_type": "code",
      "source": [
        "#exercicio\n",
        "#printando elementos da lista\n",
        "areas = ['hallway', hall, 'kitchen', kit, 'living room', liv,'bedroom', bed, 'bathroom', bath]\n",
        "print(areas[1])"
      ],
      "metadata": {
        "colab": {
          "base_uri": "https://localhost:8080/"
        },
        "id": "E8sTJrKnL6gJ",
        "outputId": "803b0df6-5f27-48d1-82ff-2203053b0a64"
      },
      "execution_count": null,
      "outputs": [
        {
          "output_type": "stream",
          "name": "stdout",
          "text": [
            "14.0\n"
          ]
        }
      ]
    },
    {
      "cell_type": "code",
      "source": [
        "print(areas[-1])"
      ],
      "metadata": {
        "colab": {
          "base_uri": "https://localhost:8080/"
        },
        "id": "uNsSTXyyMXKS",
        "outputId": "1a2419ef-43d4-448b-ee33-5280fb202b8b"
      },
      "execution_count": null,
      "outputs": [
        {
          "output_type": "stream",
          "name": "stdout",
          "text": [
            "9.5\n"
          ]
        }
      ]
    },
    {
      "cell_type": "code",
      "source": [
        "print(areas[5])"
      ],
      "metadata": {
        "colab": {
          "base_uri": "https://localhost:8080/"
        },
        "id": "a3YRAQZFMjVI",
        "outputId": "b3055f4c-4510-4d89-da36-ae8d56dfaf8c"
      },
      "execution_count": null,
      "outputs": [
        {
          "output_type": "stream",
          "name": "stdout",
          "text": [
            "20.0\n"
          ]
        }
      ]
    },
    {
      "cell_type": "markdown",
      "source": [
        "**AULA 04**\n",
        "\n",
        "**OPERAÇÕES COM OS VALORES DA LISTA**"
      ],
      "metadata": {
        "id": "2ke95IEI1isl"
      }
    },
    {
      "cell_type": "code",
      "source": [
        "#somando elementos da lista\n",
        "areas =['hallway', 14.0, 'kitchen', 18.0, 'living room', 20.0, 'bedroom', 10.75, 'bathroom', 9.5]\n",
        "eat_sleep_area = areas[3] + areas [5]\n",
        "print(eat_sleep_area)"
      ],
      "metadata": {
        "colab": {
          "base_uri": "https://localhost:8080/"
        },
        "id": "5xRnpHXAtFQG",
        "outputId": "d9b6990d-cf15-4c92-fb02-605ee535da7b"
      },
      "execution_count": null,
      "outputs": [
        {
          "output_type": "stream",
          "name": "stdout",
          "text": [
            "38.0\n"
          ]
        }
      ]
    },
    {
      "cell_type": "code",
      "source": [
        "#separando partes da lista\n",
        "areas = ['hallway', 14.0, 'kitchen', 18.0, 'living room', 20.0, 'bedroom', 10.75, 'bathroom', 9.5]\n",
        "areas [:6]\n",
        "downstairs = ['hallway', 14.0, 'kitchen', 18.0, 'living room', 20.0]\n",
        "areas [6:]\n",
        "upstairs = ['bedroom', 10.75, 'bathroom', 9.0]\n",
        "print(downstairs)\n",
        "print(upstairs)"
      ],
      "metadata": {
        "colab": {
          "base_uri": "https://localhost:8080/"
        },
        "id": "-aFL0aK3wi8f",
        "outputId": "08f85d98-988d-4295-98f7-e76c4be87d3e"
      },
      "execution_count": null,
      "outputs": [
        {
          "output_type": "stream",
          "name": "stdout",
          "text": [
            "['hallway', 14.0, 'kitchen', 18.0, 'living room', 20.0]\n",
            "['bedroom', 10.75, 'bathroom', 9.0]\n"
          ]
        }
      ]
    },
    {
      "cell_type": "code",
      "source": [
        "#acessando listas de listas\n",
        "A = [['a', 'b', 'c'],['d','e','f'],['g', 'h', 'i']]\n",
        "A[2][0]\n",
        "A[2][:2]"
      ],
      "metadata": {
        "colab": {
          "base_uri": "https://localhost:8080/"
        },
        "id": "SzcAm2xgyA-_",
        "outputId": "9d33037c-1bac-48e9-ae11-265982385f13"
      },
      "execution_count": null,
      "outputs": [
        {
          "output_type": "execute_result",
          "data": {
            "text/plain": [
              "['g', 'h']"
            ]
          },
          "metadata": {},
          "execution_count": 54
        }
      ]
    },
    {
      "cell_type": "code",
      "source": [
        "house = [['hallway', hall],['kitchen', kit],['living room',liv],['bedroom', bed],['bathroom', bath]]\n",
        "house[-1][1]\n",
        "#resposta c)"
      ],
      "metadata": {
        "colab": {
          "base_uri": "https://localhost:8080/"
        },
        "id": "EuQiLrTFzKau",
        "outputId": "a7c09307-f0c4-43ff-82c5-76aa00182f6d"
      },
      "execution_count": null,
      "outputs": [
        {
          "output_type": "execute_result",
          "data": {
            "text/plain": [
              "9.5"
            ]
          },
          "metadata": {},
          "execution_count": 55
        }
      ]
    },
    {
      "cell_type": "code",
      "source": [
        "#manipulando as listas (modificando dados)\n",
        "fruit = [1,'uva', 2 , 'manga', 3, 'goiaba' ]\n",
        "fruit [2] = 'II'\n",
        "fruit [0:2] = ['I', 'abacaxi']\n",
        "fruit [4] = 'III'\n",
        "fruit"
      ],
      "metadata": {
        "colab": {
          "base_uri": "https://localhost:8080/"
        },
        "id": "iFWcgXDL1Lz_",
        "outputId": "dd8d4bf3-aba2-40d0-f879-5cbf309535e2"
      },
      "execution_count": null,
      "outputs": [
        {
          "output_type": "execute_result",
          "data": {
            "text/plain": [
              "['I', 'abacaxi', 'II', 'manga', 'III', 'goiaba']"
            ]
          },
          "metadata": {},
          "execution_count": 57
        }
      ]
    },
    {
      "cell_type": "code",
      "source": [
        "fruit + ['IV', 'maça']\n",
        "fruit_ext = fruit + ['IV', 'maça']\n",
        "fruit_ext          "
      ],
      "metadata": {
        "colab": {
          "base_uri": "https://localhost:8080/"
        },
        "id": "MiUGR03G23B-",
        "outputId": "2dc396b5-7600-426f-dff3-4769fd256bdd"
      },
      "execution_count": null,
      "outputs": [
        {
          "output_type": "execute_result",
          "data": {
            "text/plain": [
              "['I', 'abacaxi', 'II', 'manga', 'III', 'goiaba', 'IV', 'maça']"
            ]
          },
          "metadata": {},
          "execution_count": 60
        }
      ]
    },
    {
      "cell_type": "code",
      "source": [
        "#excluindo elementos da lista\n",
        "del(fruit[4:6])\n",
        "fruit"
      ],
      "metadata": {
        "colab": {
          "base_uri": "https://localhost:8080/"
        },
        "id": "K8dW6EAA3qKN",
        "outputId": "9e79a3a5-6179-4165-d690-a6847d430445"
      },
      "execution_count": null,
      "outputs": [
        {
          "output_type": "execute_result",
          "data": {
            "text/plain": [
              "['I', 'abacaxi', 'II', 'manga']"
            ]
          },
          "metadata": {},
          "execution_count": 63
        }
      ]
    },
    {
      "cell_type": "code",
      "source": [
        "#informação sobre a manipulação de listas\n",
        "x = ['a','b', 'c']\n",
        "y=x\n",
        "y[1] = 'z'\n",
        "y"
      ],
      "metadata": {
        "colab": {
          "base_uri": "https://localhost:8080/"
        },
        "id": "oS6r8_D56Hnu",
        "outputId": "cfc37621-6d6d-40ed-c86a-cbde0b2e476e"
      },
      "execution_count": null,
      "outputs": [
        {
          "output_type": "execute_result",
          "data": {
            "text/plain": [
              "['a', 'z', 'c']"
            ]
          },
          "metadata": {},
          "execution_count": 100
        }
      ]
    },
    {
      "cell_type": "code",
      "source": [
        "print (x)"
      ],
      "metadata": {
        "colab": {
          "base_uri": "https://localhost:8080/"
        },
        "id": "b6sBXULh6eDr",
        "outputId": "b5e36dd2-5e76-43be-c58f-65e2aa18cf4c"
      },
      "execution_count": null,
      "outputs": [
        {
          "output_type": "stream",
          "name": "stdout",
          "text": [
            "['a', 'z', 'c']\n"
          ]
        }
      ]
    },
    {
      "cell_type": "code",
      "source": [
        "x = ['a', 'b', 'c']\n",
        "y = list(x)\n",
        "y= x [:]\n",
        "y[1]=z\n",
        "x"
      ],
      "metadata": {
        "colab": {
          "base_uri": "https://localhost:8080/"
        },
        "id": "p3qWHlg96ulN",
        "outputId": "017921a4-7f36-460e-e01d-1e8030ee2609"
      },
      "execution_count": null,
      "outputs": [
        {
          "output_type": "execute_result",
          "data": {
            "text/plain": [
              "['a', 'b', 'c']"
            ]
          },
          "metadata": {},
          "execution_count": 102
        }
      ]
    },
    {
      "cell_type": "code",
      "source": [
        "areas = ['hallway', 14.0, 'kitchen', 18.0, 'living room', 20.0, 'bedroom', 10.75, 'bathroom', 9.5]\n",
        "areas [-1] = 10\n",
        "areas [4] = 'living'\n",
        "areas"
      ],
      "metadata": {
        "colab": {
          "base_uri": "https://localhost:8080/"
        },
        "id": "4tNPCh4X8Odm",
        "outputId": "bf6a7c81-82e9-4b0a-d3a0-3333d6ae04ff"
      },
      "execution_count": null,
      "outputs": [
        {
          "output_type": "execute_result",
          "data": {
            "text/plain": [
              "['hallway',\n",
              " 14.0,\n",
              " 'kitchen',\n",
              " 18.0,\n",
              " 'living',\n",
              " 20.0,\n",
              " 'bedroom',\n",
              " 10.75,\n",
              " 'bathroom',\n",
              " 10]"
            ]
          },
          "metadata": {},
          "execution_count": 66
        }
      ]
    }
  ]
}